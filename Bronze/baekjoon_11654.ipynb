{
  "nbformat": 4,
  "nbformat_minor": 0,
  "metadata": {
    "colab": {
      "name": "baekjoon_11654.ipynb",
      "private_outputs": true,
      "provenance": []
    },
    "kernelspec": {
      "name": "python3",
      "display_name": "Python 3"
    },
    "language_info": {
      "name": "python"
    }
  },
  "cells": [
    {
      "cell_type": "code",
      "execution_count": null,
      "metadata": {
        "id": "P49tlJXFc3YI"
      },
      "outputs": [],
      "source": [
        "a=input()\n",
        "print(ord(a))"
      ]
    }
  ]
}