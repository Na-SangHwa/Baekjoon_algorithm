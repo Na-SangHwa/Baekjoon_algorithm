{
  "nbformat": 4,
  "nbformat_minor": 0,
  "metadata": {
    "colab": {
      "name": "baekjoon_8958.ipynb",
      "private_outputs": true,
      "provenance": [],
      "collapsed_sections": []
    },
    "kernelspec": {
      "name": "python3",
      "display_name": "Python 3"
    },
    "language_info": {
      "name": "python"
    }
  },
  "cells": [
    {
      "cell_type": "code",
      "source": [
        "num=0\n",
        "sum=0\n",
        "n_list=[]\n",
        "n_sum_list=[]\n",
        "\n",
        "#test case\n",
        "c=int(input())\n",
        "\n",
        "# process\n",
        "for i in range(c):\n",
        "  case=list(map(str,input())) # input cases\n",
        "\n",
        "  for j in range(len(case)): # change to num\n",
        "    if case[j]==\"O\":\n",
        "      num+=1\n",
        "      n_list.append(num)\n",
        "    else:\n",
        "      num=0\n",
        "  \n",
        "  for i in n_list: sum+=i # make n_sum_list\n",
        "  n_sum_list.append(sum)\n",
        "\n",
        "  n_list.clear() # reuse n_list\n",
        "\n",
        "  num=0 # back to start\n",
        "  sum=0\n",
        "\n",
        "# print\n",
        "for i in n_sum_list:\n",
        "  print(i,end='\\n')"
      ],
      "metadata": {
        "id": "ndkEvuqFpUEL"
      },
      "execution_count": null,
      "outputs": []
    }
  ]
}