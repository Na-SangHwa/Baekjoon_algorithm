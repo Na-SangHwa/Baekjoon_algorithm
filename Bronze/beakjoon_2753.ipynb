{
  "nbformat": 4,
  "nbformat_minor": 0,
  "metadata": {
    "colab": {
      "name": "beakjoon_2753.ipynb",
      "provenance": [],
      "collapsed_sections": []
    },
    "kernelspec": {
      "name": "python3",
      "display_name": "Python 3"
    },
    "language_info": {
      "name": "python"
    },
    "gpuClass": "standard"
  },
  "cells": [
    {
      "cell_type": "code",
      "execution_count": 2,
      "metadata": {
        "id": "48skBGa8_Qs-",
        "colab": {
          "base_uri": "https://localhost:8080/"
        },
        "outputId": "15844b05-6a22-4896-9586-93aadbfe8713"
      },
      "outputs": [
        {
          "output_type": "stream",
          "name": "stdout",
          "text": [
            "2000\n",
            "1\n"
          ]
        }
      ],
      "source": [
        "year=int(input())\n",
        "\n",
        "if year%4==0 and year%100!=0 or year%400==0 :\n",
        "  print(1)\n",
        "else :\n",
        "  print(0)"
      ]
    }
  ]
}