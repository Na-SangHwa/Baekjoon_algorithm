{
  "nbformat": 4,
  "nbformat_minor": 0,
  "metadata": {
    "colab": {
      "name": "baekjoon_5597.ipynb",
      "private_outputs": true,
      "provenance": []
    },
    "kernelspec": {
      "name": "python3",
      "display_name": "Python 3"
    },
    "language_info": {
      "name": "python"
    }
  },
  "cells": [
    {
      "cell_type": "markdown",
      "source": [
        "#https://www.acmicpc.net/problem/5597"
      ],
      "metadata": {
        "id": "UqGk2sJ_en2E"
      }
    },
    {
      "cell_type": "code",
      "source": [
        "submited=[]\n",
        "not_submited=[]\n",
        "#제출전\n",
        "for i in range(1,31):\n",
        "  submited.append(None)\n",
        "\n",
        "#제출후\n",
        "for i in range(1,29):\n",
        "  a=int(input(\"\"))\n",
        "  submited[a-1]=a\n",
        "\n",
        "#미제출자\n",
        "for i in range(1,31):\n",
        "  if submited[i-1] == None:\n",
        "    not_submited.append(i)\n",
        "\n",
        "#출력\n",
        "j=len(not_submited)\n",
        "for i in range(1,j+1) :\n",
        "  print(not_submited[i-1])"
      ],
      "metadata": {
        "id": "qj5pWG-qlIJ5"
      },
      "execution_count": null,
      "outputs": []
    }
  ]
}