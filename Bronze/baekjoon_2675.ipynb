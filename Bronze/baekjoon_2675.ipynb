{
  "nbformat": 4,
  "nbformat_minor": 0,
  "metadata": {
    "colab": {
      "name": "baekjoon_2675.ipynb",
      "provenance": [],
      "collapsed_sections": []
    },
    "kernelspec": {
      "name": "python3",
      "display_name": "Python 3"
    },
    "language_info": {
      "name": "python"
    },
    "gpuClass": "standard"
  },
  "cells": [
    {
      "cell_type": "code",
      "execution_count": 3,
      "metadata": {
        "colab": {
          "base_uri": "https://localhost:8080/"
        },
        "id": "4tb38Ribd135",
        "outputId": "612f5436-d40c-4209-e74b-9dc007015d5b"
      },
      "outputs": [
        {
          "output_type": "stream",
          "name": "stdout",
          "text": [
            "2\n",
            "5 /HTP\n",
            "/////HHHHHTTTTTPPPPP\n",
            "3 ABC\n",
            "AAABBBCCC\n"
          ]
        }
      ],
      "source": [
        "c=int(input())\n",
        "\n",
        "for i in range(c):\n",
        "  s=list(map(str,input()))\n",
        "\n",
        "  for j in s[2:]:\n",
        "    print(j*int(s[0]),end='')\n",
        "  print(\"\")"
      ]
    }
  ]
}