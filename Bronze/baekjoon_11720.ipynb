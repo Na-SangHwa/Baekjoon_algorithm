{
  "nbformat": 4,
  "nbformat_minor": 0,
  "metadata": {
    "colab": {
      "name": "baekjoon_11720.ipynb",
      "provenance": [],
      "collapsed_sections": []
    },
    "kernelspec": {
      "name": "python3",
      "display_name": "Python 3"
    },
    "language_info": {
      "name": "python"
    },
    "gpuClass": "standard"
  },
  "cells": [
    {
      "cell_type": "code",
      "execution_count": 12,
      "metadata": {
        "colab": {
          "base_uri": "https://localhost:8080/"
        },
        "id": "Kk4N-wULlZno",
        "outputId": "9b4a5341-a5fa-4bbd-86a8-725019c07d89"
      },
      "outputs": [
        {
          "output_type": "stream",
          "name": "stdout",
          "text": [
            "11\n",
            "10987654321\n",
            "46\n"
          ]
        }
      ],
      "source": [
        "c=int(input())\n",
        "n_list=list(map(int,input()))\n",
        "\n",
        "def mk_s(n_list):\n",
        "  s=0\n",
        "  for i in n_list:\n",
        "    s+=i\n",
        "  return s\n",
        "\n",
        "print(mk_s(n_list))"
      ]
    }
  ]
}