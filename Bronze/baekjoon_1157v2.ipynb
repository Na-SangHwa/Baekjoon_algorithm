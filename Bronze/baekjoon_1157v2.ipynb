{
  "nbformat": 4,
  "nbformat_minor": 0,
  "metadata": {
    "colab": {
      "name": "baekjoon_1157v2.ipynb",
      "provenance": []
    },
    "kernelspec": {
      "name": "python3",
      "display_name": "Python 3"
    },
    "language_info": {
      "name": "python"
    },
    "gpuClass": "standard"
  },
  "cells": [
    {
      "cell_type": "code",
      "source": [
        "import string\n",
        "\n",
        "s=input()\n",
        "s=s.upper()\n",
        "s_list=list(s)\n",
        "\n",
        "c_list=list(string.ascii_uppercase)\n",
        "c_temp=[0 for i in range(len(c_list))]\n",
        "m_temp=[]\n",
        "\n",
        "def m_cnt_list(s_list):\n",
        "  for i in s_list:\n",
        "    if i in c_list:\n",
        "      cnt=c_temp[c_list.index(i)]\n",
        "      del c_temp[c_list.index(i)]\n",
        "\n",
        "      c_temp.insert(c_list.index(i),cnt+1)\n",
        "      cnt=0\n",
        " \n",
        "  return c_temp\n",
        "c_temp=m_cnt_list(s_list)\n",
        "\n",
        "def find(c_temp):\n",
        "  mxc_index=[]\n",
        "\n",
        "  for i in c_temp:\n",
        "    t_max=max(c_temp)\n",
        "\n",
        "    m_temp.append(t_max)\n",
        "    mxc_index.append(c_temp.index(t_max))\n",
        "    \n",
        "    c_temp.remove(t_max)\n",
        "\n",
        "    if 0 in m_temp:\n",
        "      if m_temp[0]==m_temp[1]:\n",
        "        print(\"?\")\n",
        "        break\n",
        "\n",
        "      elif m_temp[0]!=m_temp[1]:\n",
        "        print(c_list[mxc_index[0]])\n",
        "        break\n",
        "\n",
        "      else:\n",
        "        print(c_list[mxc_index[0]])\n",
        "        break\n",
        "    \n",
        "find(c_temp)\n",
        " "
      ],
      "metadata": {
        "colab": {
          "base_uri": "https://localhost:8080/"
        },
        "id": "kvR6f1hYxBOH",
        "outputId": "06fcc5a7-89a7-4495-94c3-f9d76f59f243"
      },
      "execution_count": 49,
      "outputs": [
        {
          "output_type": "stream",
          "name": "stdout",
          "text": [
            "Mississipi\n",
            "?\n"
          ]
        }
      ]
    }
  ]
}