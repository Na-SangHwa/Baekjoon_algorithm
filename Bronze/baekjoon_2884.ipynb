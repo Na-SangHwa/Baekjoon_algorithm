{
  "nbformat": 4,
  "nbformat_minor": 0,
  "metadata": {
    "colab": {
      "name": "baekjoon_2884.ipynb",
      "provenance": [],
      "collapsed_sections": []
    },
    "kernelspec": {
      "name": "python3",
      "display_name": "Python 3"
    },
    "language_info": {
      "name": "python"
    },
    "gpuClass": "standard"
  },
  "cells": [
    {
      "cell_type": "code",
      "execution_count": 1,
      "metadata": {
        "colab": {
          "base_uri": "https://localhost:8080/"
        },
        "id": "Slfr-RpEF7Sv",
        "outputId": "4ecdb4d4-d45e-4827-9e03-7eee93eadc46"
      },
      "outputs": [
        {
          "output_type": "stream",
          "name": "stdout",
          "text": [
            "10 45\n",
            "10 0\n"
          ]
        }
      ],
      "source": [
        "#입력\n",
        "h,m=map(int,input().split(\" \"))\n",
        "\n",
        "#출력\n",
        "if m>=45:\n",
        "  a=m-45\n",
        "elif h==0:\n",
        "  h=23\n",
        "  a=(60+m)-45\n",
        "else:\n",
        "  h=h-1\n",
        "  a=(60+m)-45\n",
        "\n",
        "print(h,a,sep=\" \")\n",
        "\n",
        "\n",
        "\n"
      ]
    }
  ]
}