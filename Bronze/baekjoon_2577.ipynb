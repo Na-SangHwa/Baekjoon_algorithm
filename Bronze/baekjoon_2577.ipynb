{
  "nbformat": 4,
  "nbformat_minor": 0,
  "metadata": {
    "colab": {
      "name": "baekjoon_2577.ipynb",
      "private_outputs": true,
      "provenance": [],
      "collapsed_sections": []
    },
    "kernelspec": {
      "name": "python3",
      "display_name": "Python 3"
    },
    "language_info": {
      "name": "python"
    }
  },
  "cells": [
    {
      "cell_type": "code",
      "source": [
        "n_list=[]\n",
        "\n",
        "# 정수 입력\n",
        "a,b,c=int(input()),int(input()),int(input())\n",
        "if (a and b and c >=100) and (a and b and c <1000):\n",
        "  n=a*b*c\n",
        "\n",
        "# 리스트 변환\n",
        "for i in str(n):\n",
        "  n_list.append(i)\n",
        "n_list=list(map(int,n_list))\n",
        "\n",
        "# 카운팅 리스트 생성\n",
        "cnt_list=[]\n",
        "for i in range(10): cnt_list.append(0)\n",
        "\n",
        "# 계산\n",
        "for i in n_list:\n",
        "  cnt=0\n",
        "  for j in n_list:\n",
        "    if n_list[i]==n_list[j]:\n",
        "      cnt+=1\n",
        "  cnt_list[i]=cnt\n",
        "\n",
        "#출력\n",
        "for i in cnt_list:\n",
        "  print(i,end='\\n')"
      ],
      "metadata": {
        "id": "b4cf5bZkX_ky"
      },
      "execution_count": null,
      "outputs": []
    },
    {
      "cell_type": "code",
      "source": [
        "n_list=[]\n",
        "\n",
        "# 정수 입력\n",
        "a,b,c=int(input()),int(input()),int(input())\n",
        "\n",
        "n=a*b*c\n",
        "\n",
        "# 리스트 변환\n",
        "for i in str(n):\n",
        "  n_list.append(i)\n",
        "n_list=list(map(int,n_list))\n",
        "\n",
        "# 카운팅 리스트 생성\n",
        "cnt_list=[]\n",
        "for i in range(10): cnt_list.append(0)\n",
        "\n",
        "# 계산\n",
        "for i in n_list:\n",
        "  cnt=0\n",
        "  for j in n_list:\n",
        "    if n_list[i]==n_list[j]:\n",
        "      cnt+=1\n",
        "  cnt_list[i]=cnt\n",
        "\n",
        "#출력\n",
        "for i in cnt_list:\n",
        "  print(i,end='\\n')"
      ],
      "metadata": {
        "id": "UORHq_CWrJ9u"
      },
      "execution_count": null,
      "outputs": []
    }
  ]
}