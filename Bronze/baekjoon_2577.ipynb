{
  "nbformat": 4,
  "nbformat_minor": 0,
  "metadata": {
    "colab": {
      "name": "baekjoon_2577.ipynb",
      "provenance": [],
      "collapsed_sections": []
    },
    "kernelspec": {
      "name": "python3",
      "display_name": "Python 3"
    },
    "language_info": {
      "name": "python"
    },
    "gpuClass": "standard"
  },
  "cells": [
    {
      "cell_type": "code",
      "source": [
        "n_list=[]\n",
        "\n",
        "# 정수 입력\n",
        "a,b,c=int(input()),int(input()),int(input())\n",
        "n=a*b*c\n",
        "\n",
        "# 리스트 변환\n",
        "for i in str(n):\n",
        "  n_list.append(i)\n",
        "n_list=list(map(int,n_list))\n",
        "\n",
        "# 카운팅 리스트 생성\n",
        "cnt_list=[]\n",
        "for i in range(10): cnt_list.append(0)\n",
        "\n",
        "# 계산\n",
        "for i in n_list:\n",
        "  cnt_list[i]=cnt_list[i]+1\n",
        "\n",
        "#출력\n",
        "for i in cnt_list:\n",
        "  print(i,end='\\n')"
      ],
      "metadata": {
        "id": "b4cf5bZkX_ky",
        "colab": {
          "base_uri": "https://localhost:8080/"
        },
        "outputId": "bae81ddb-139a-463a-f33e-38bf1e09fdc1"
      },
      "execution_count": 35,
      "outputs": [
        {
          "output_type": "stream",
          "name": "stdout",
          "text": [
            "150\n",
            "266\n",
            "427\n",
            "3\n",
            "1\n",
            "0\n",
            "2\n",
            "0\n",
            "0\n",
            "0\n",
            "2\n",
            "0\n",
            "0\n"
          ]
        }
      ]
    }
  ]
}