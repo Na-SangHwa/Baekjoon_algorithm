{
  "nbformat": 4,
  "nbformat_minor": 0,
  "metadata": {
    "colab": {
      "name": "baekjoon_3003.ipynb",
      "provenance": [],
      "collapsed_sections": []
    },
    "kernelspec": {
      "name": "python3",
      "display_name": "Python 3"
    },
    "language_info": {
      "name": "python"
    },
    "gpuClass": "standard"
  },
  "cells": [
    {
      "cell_type": "code",
      "source": [
        "board=[]\n",
        "check=[1,1,2,2,2,8]\n",
        "\n",
        "#입력\n",
        "board=list(map(int, input().split()))\n",
        "board=[int(x) for x in board]\n",
        "\n",
        "#확인\n",
        "for i in range(6):\n",
        "  print(check[i]-board[i], end=' ')"
      ],
      "metadata": {
        "id": "xdtXOh68h109",
        "colab": {
          "base_uri": "https://localhost:8080/"
        },
        "outputId": "941351be-93fb-42b1-a6fc-5dbf7be393b1"
      },
      "execution_count": 35,
      "outputs": [
        {
          "output_type": "stream",
          "name": "stdout",
          "text": [
            "0 1 2 2 2 7\n",
            "1 0 0 0 0 1 "
          ]
        }
      ]
    }
  ]
}