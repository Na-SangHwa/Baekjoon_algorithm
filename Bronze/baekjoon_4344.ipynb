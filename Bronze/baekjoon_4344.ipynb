{
  "nbformat": 4,
  "nbformat_minor": 0,
  "metadata": {
    "colab": {
      "name": "baekjoon_4344.ipynb",
      "provenance": [],
      "collapsed_sections": []
    },
    "kernelspec": {
      "name": "python3",
      "display_name": "Python 3"
    },
    "language_info": {
      "name": "python"
    },
    "gpuClass": "standard"
  },
  "cells": [
    {
      "cell_type": "code",
      "execution_count": 18,
      "metadata": {
        "id": "8y3kknL3sZyg",
        "colab": {
          "base_uri": "https://localhost:8080/"
        },
        "outputId": "6712cf64-4f55-4749-e797-b322768484f3"
      },
      "outputs": [
        {
          "output_type": "stream",
          "name": "stdout",
          "text": [
            "5\n",
            "5 50 50 70 80 100\n",
            "7 100 95 90 80 70 60 50\n",
            "3 70 90 80\n",
            "3 70 90 81\n",
            "9 100 99 98 97 96 95 94 93 91\n",
            "40.000%\n",
            "57.143%\n",
            "33.333%\n",
            "66.667%\n",
            "55.556%\n"
          ]
        }
      ],
      "source": [
        "temp=[]\n",
        "# 입력 개수\n",
        "c=int(input())\n",
        "# 계산\n",
        "for i in range(c): # 입력 개수 만큼 입력\n",
        "  c_list=list(map(int,input().split()))\n",
        "\n",
        "  for j in c_list[1:]: # 학생 수 제외, 케이스 전체 더함\n",
        "    sum+=j\n",
        "\n",
        "  avg=sum/c_list[0] # 케이스 평균 \n",
        "\n",
        "  for x in c_list[1:]: # 평균보다 높은 케이스의 개수 \n",
        "    if x>avg:\n",
        "      cnt+=1\n",
        "\n",
        "  f=cnt/c_list[0]*100 # 평균보다 높은 학생 비율\n",
        "\n",
        "  temp.append(f) # 출력용 리스트\n",
        "\n",
        "  sum=0 # 재사용 하기 위한 초기화\n",
        "  cnt=0\n",
        "# 출력\n",
        "for i in temp:\n",
        "  print(\"{:.3f}%\".format(i))"
      ]
    }
  ]
}