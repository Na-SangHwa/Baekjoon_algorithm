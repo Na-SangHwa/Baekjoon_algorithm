{
  "nbformat": 4,
  "nbformat_minor": 0,
  "metadata": {
    "colab": {
      "name": "baekjoon_10818.ipynb",
      "provenance": [],
      "collapsed_sections": []
    },
    "kernelspec": {
      "name": "python3",
      "display_name": "Python 3"
    },
    "language_info": {
      "name": "python"
    },
    "gpuClass": "standard"
  },
  "cells": [
    {
      "cell_type": "code",
      "execution_count": 9,
      "metadata": {
        "colab": {
          "base_uri": "https://localhost:8080/"
        },
        "id": "PlH14q5QWNnt",
        "outputId": "589702a9-7f47-4478-bb8a-c6bac49430a0"
      },
      "outputs": [
        {
          "output_type": "stream",
          "name": "stdout",
          "text": [
            "5\n",
            "20 10 35 30 7\n",
            "7 35\n"
          ]
        }
      ],
      "source": [
        "#min() max() 쓰면 되지만 직접 구현해서 쓰는게 더 재밌지 않을까?\n",
        "\n",
        "#입력\n",
        "n=int(input())\n",
        "a=list(map(int,input().split())) #리스트\n",
        "\n",
        "#최댓 값\n",
        "def max(list):\n",
        "  mx=list[0] # 만약 첫번째가 max 일 경우, 계산 할 필요 없이 그대로.\n",
        "  for n in list[1:]: # max 탐색\n",
        "    if mx<n:\n",
        "      mx=n\n",
        "  return mx\n",
        "\n",
        "#최솟 값\n",
        "def min(list):\n",
        "  mi=list[0] # //\n",
        "  for n in list[1:]: # //\n",
        "    if mi>n:\n",
        "      mi=n\n",
        "  return mi\n",
        "\n",
        "#출력\n",
        "print(min(a), max(a))"
      ]
    }
  ]
}