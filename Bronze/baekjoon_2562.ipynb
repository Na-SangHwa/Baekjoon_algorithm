{
  "nbformat": 4,
  "nbformat_minor": 0,
  "metadata": {
    "colab": {
      "name": "baekjoon_2562.ipynb",
      "provenance": [],
      "collapsed_sections": []
    },
    "kernelspec": {
      "name": "python3",
      "display_name": "Python 3"
    },
    "language_info": {
      "name": "python"
    },
    "gpuClass": "standard"
  },
  "cells": [
    {
      "cell_type": "code",
      "execution_count": 5,
      "metadata": {
        "id": "qgm7RVkhngoR",
        "colab": {
          "base_uri": "https://localhost:8080/"
        },
        "outputId": "1dbf3c12-ecff-41a8-c6c2-abd34ec34f6d"
      },
      "outputs": [
        {
          "output_type": "stream",
          "name": "stdout",
          "text": [
            "3\n",
            "29\n",
            "38\n",
            "12\n",
            "57\n",
            "74\n",
            "40\n",
            "85\n",
            "61\n",
            "85\n",
            "8\n"
          ]
        }
      ],
      "source": [
        "n_list=[]\n",
        "\n",
        "#입력\n",
        "for i in range(9):\n",
        "  n=int(input())\n",
        "  n_list.append(n)\n",
        "\n",
        "#계산\n",
        "max=n_list[0] # n_list[0]가 제일 크면\n",
        "find=0\n",
        "for n in n_list:\n",
        "  if max<n:\n",
        "    max=n\n",
        "    find=n_list.index(max)\n",
        "    \n",
        "#출력\n",
        "print(max)\n",
        "print(find+1)\n",
        "    "
      ]
    }
  ]
}