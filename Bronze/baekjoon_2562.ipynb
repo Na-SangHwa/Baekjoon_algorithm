{
  "nbformat": 4,
  "nbformat_minor": 0,
  "metadata": {
    "colab": {
      "name": "baekjoon_2562.ipynb",
      "private_outputs": true,
      "provenance": [],
      "collapsed_sections": []
    },
    "kernelspec": {
      "name": "python3",
      "display_name": "Python 3"
    },
    "language_info": {
      "name": "python"
    },
    "gpuClass": "standard"
  },
  "cells": [
    {
      "cell_type": "code",
      "execution_count": null,
      "metadata": {
        "id": "qgm7RVkhngoR"
      },
      "outputs": [],
      "source": [
        "\n",
        "#입력\n",
        "for i in range(9):\n",
        "  n=int(input())\n",
        "  if n<100:\n",
        "    list.append(n)\n",
        "\n",
        "#계산\n",
        "max=list[0] # list[0]가 제일 크면\n",
        "find=0\n",
        "for n in list:\n",
        "  if max<n:\n",
        "    max=n\n",
        "    find=list.index(max)+1\n",
        "     \n",
        "#출력\n",
        "print(int(max))\n",
        "print(int(find))\n",
        "    "
      ]
    }
  ]
}