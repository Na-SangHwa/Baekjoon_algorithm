{
  "nbformat": 4,
  "nbformat_minor": 0,
  "metadata": {
    "colab": {
      "name": "baekjoon_1110.ipynb",
      "provenance": [],
      "collapsed_sections": []
    },
    "kernelspec": {
      "name": "python3",
      "display_name": "Python 3"
    },
    "language_info": {
      "name": "python"
    },
    "gpuClass": "standard"
  },
  "cells": [
    {
      "cell_type": "code",
      "source": [
        "n=int(input())\n",
        "\n",
        "cnt=0\n",
        "start=n\n",
        "\n",
        "while True:\n",
        "  a=n//10\n",
        "  b=n%10\n",
        "  n=(b*10)+(a+b)%10\n",
        "  if n==start:\n",
        "    break\n",
        "  else:\n",
        "    cnt+=1\n",
        "    continue\n",
        "\n",
        "print(cnt+1) "
      ],
      "metadata": {
        "id": "YFNb1VCl_M2h",
        "colab": {
          "base_uri": "https://localhost:8080/"
        },
        "outputId": "2fcefd9c-57cc-4b54-deb7-7077725d10a9"
      },
      "execution_count": null,
      "outputs": [
        {
          "output_type": "stream",
          "name": "stdout",
          "text": [
            "71\n",
            "12\n"
          ]
        }
      ]
    }
  ]
}