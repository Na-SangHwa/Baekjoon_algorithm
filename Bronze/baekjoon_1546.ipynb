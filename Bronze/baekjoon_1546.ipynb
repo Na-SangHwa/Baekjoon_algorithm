{
  "nbformat": 4,
  "nbformat_minor": 0,
  "metadata": {
    "colab": {
      "name": "baekjoon_1546.ipynb",
      "provenance": [],
      "collapsed_sections": []
    },
    "kernelspec": {
      "name": "python3",
      "display_name": "Python 3"
    },
    "language_info": {
      "name": "python"
    },
    "gpuClass": "standard"
  },
  "cells": [
    {
      "cell_type": "code",
      "source": [
        "max=0\n",
        "avg=0\n",
        "num=[]\n",
        "c_num=[]\n",
        "\n",
        "#inputs\n",
        "s=int(input())\n",
        "num=list(map(int,input().split()))\n",
        "\n",
        "# find max\n",
        "for i in num:\n",
        "  if max<i: # if next num[i] is bigger than current num\n",
        "    max=i\n",
        "\n",
        "# num to change num\n",
        "for i in num:\n",
        "  i=(i/max)*100\n",
        "  c_num.append(i) # add to c_num\n",
        "\n",
        "#print\n",
        "for i in c_num: # for c_num average\n",
        "  avg+=i\n",
        "print(avg/s)"
      ],
      "metadata": {
        "colab": {
          "base_uri": "https://localhost:8080/"
        },
        "id": "z2sPAu2wNPch",
        "outputId": "cefe0df6-1543-4186-cf74-082467ce264a"
      },
      "execution_count": 14,
      "outputs": [
        {
          "output_type": "stream",
          "name": "stdout",
          "text": [
            "3\n",
            "40 80 60\n",
            "75.0\n"
          ]
        }
      ]
    }
  ]
}