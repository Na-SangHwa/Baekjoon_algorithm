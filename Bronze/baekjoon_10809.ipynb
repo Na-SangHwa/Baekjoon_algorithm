{
  "nbformat": 4,
  "nbformat_minor": 0,
  "metadata": {
    "colab": {
      "name": "baekjoon_10809.ipynb",
      "provenance": [],
      "collapsed_sections": []
    },
    "kernelspec": {
      "name": "python3",
      "display_name": "Python 3"
    },
    "language_info": {
      "name": "python"
    },
    "gpuClass": "standard"
  },
  "cells": [
    {
      "cell_type": "code",
      "execution_count": 21,
      "metadata": {
        "id": "EtM0BCy6QShO",
        "colab": {
          "base_uri": "https://localhost:8080/"
        },
        "outputId": "d2c290fe-cf33-44b3-f269-650da9684e26"
      },
      "outputs": [
        {
          "output_type": "stream",
          "name": "stdout",
          "text": [
            "baekjoon\n",
            "1 0 -1 -1 2 -1 -1 -1 -1 4 3 -1 -1 7 5 -1 -1 -1 -1 -1 -1 -1 -1 -1 -1 -1 "
          ]
        }
      ],
      "source": [
        "import string\n",
        "\n",
        "#정의\n",
        "f_list=list(string.ascii_lowercase) # 비교 리스트\n",
        "\n",
        "s_list=list(map(str,input())) # 입력된 리스트\n",
        "mt_u=[ -1 for i in range(len(f_list)) ] # 비교한 결과 저장 리스트\n",
        "temp=[] # 인덱스 저장용\n",
        "\n",
        "#계산\n",
        "def find(s_list):\n",
        "\n",
        "  for c in s_list: # 입력된 문자 가지고 f_list 비교\n",
        "    if c in f_list:\n",
        "\n",
        "      t=s_list.index(c) # 입력된 문자 인덱스 일시적 저장\n",
        "      temp.append(t)\n",
        "\n",
        "      d=f_list.index(c)    # if 조건에 맞는 비교 리스트\n",
        "      del mt_u[d]          # 결과 리스트에 해당 공간 확보\n",
        "      mt_u.insert(d,temp[0]) # 삭제 위치에 다시 할당\n",
        "\n",
        "      temp.clear() # 재사용을 위한 초기화\n",
        "  \n",
        "  return mt_u\n",
        "\n",
        "#출력\n",
        "for i in find(s_list):\n",
        "  print(i,end=\" \")"
      ]
    }
  ]
}