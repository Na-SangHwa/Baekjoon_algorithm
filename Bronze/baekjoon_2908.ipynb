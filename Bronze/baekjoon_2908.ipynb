{
  "nbformat": 4,
  "nbformat_minor": 0,
  "metadata": {
    "colab": {
      "name": "baekjoon_2908.ipynb",
      "provenance": [],
      "collapsed_sections": []
    },
    "kernelspec": {
      "name": "python3",
      "display_name": "Python 3"
    },
    "language_info": {
      "name": "python"
    },
    "gpuClass": "standard"
  },
  "cells": [
    {
      "cell_type": "code",
      "source": [
        "n_list=list(map(str,input()))\n",
        "\n",
        "def left(n_list): # 왼쪽 3자리 정수 스위칭\n",
        "  temp=[]\n",
        "  temp.append(n_list.pop(2))\n",
        "  temp.append(n_list.pop(0))\n",
        "\n",
        "  n_list.insert(0,temp[0])\n",
        "  n_list.insert(2,temp[1])\n",
        "\n",
        "  return n_list\n",
        "n_list=left(n_list) # 결과 그대로 갖다 쓰기 위해\n",
        "\n",
        "def right(n_list): # 오른쪽 3자리 정수 스위칭\n",
        "  temp=[]\n",
        "  temp.append(n_list.pop(6))\n",
        "  temp.append(n_list.pop(4))\n",
        "\n",
        "  n_list.insert(4,temp[0])\n",
        "  n_list.insert(6,temp[1])\n",
        "\n",
        "  return n_list\n",
        "r_list=right(n_list)\n",
        "\n",
        "def find_max(r_list):\n",
        "  r_list.remove(\" \")\n",
        "  r_list.insert(3,0)\n",
        "  intr_list=list(map(int,r_list)) # 정수로 변환\n",
        "\n",
        "  left=[]\n",
        "  right=[]\n",
        "  max=0\n",
        "\n",
        "  for i in intr_list: # 왼쪽 정수\n",
        "    left.append(i)\n",
        "\n",
        "    if i==0:\n",
        "      break\n",
        "\n",
        "  for i in intr_list[4:]: # 오른쪽 정수\n",
        "    right.append(i)\n",
        "\n",
        "  a=(left[0]*100)+(left[1]*10)+(left[2])\n",
        "  b=(right[0]*100)+(right[1]*10)+(right[2])\n",
        "\n",
        "  if a>b: max=a\n",
        "  else: max=b\n",
        "\n",
        "  return max\n",
        "\n",
        "print(find_max(r_list))\n"
      ],
      "metadata": {
        "colab": {
          "base_uri": "https://localhost:8080/"
        },
        "id": "iZrl1hyXAIzH",
        "outputId": "1981f082-0eb3-4ba0-a734-181679fb00dc"
      },
      "execution_count": 32,
      "outputs": [
        {
          "output_type": "stream",
          "name": "stdout",
          "text": [
            "734 893\n",
            "437\n"
          ]
        }
      ]
    }
  ]
}