{
  "nbformat": 4,
  "nbformat_minor": 0,
  "metadata": {
    "colab": {
      "name": "baekjoon_2480.ipynb",
      "provenance": [],
      "collapsed_sections": []
    },
    "kernelspec": {
      "name": "python3",
      "display_name": "Python 3"
    },
    "language_info": {
      "name": "python"
    },
    "gpuClass": "standard"
  },
  "cells": [
    {
      "cell_type": "code",
      "execution_count": 19,
      "metadata": {
        "colab": {
          "base_uri": "https://localhost:8080/"
        },
        "id": "RJuKzXm6xvXC",
        "outputId": "447df057-e2f5-4f4a-9c2e-383626959c0d"
      },
      "outputs": [
        {
          "output_type": "stream",
          "name": "stdout",
          "text": [
            "1 1 1\n",
            "11000\n"
          ]
        }
      ],
      "source": [
        "#입력\n",
        "d=list(map(int,input().split(\" \")))\n",
        "\n",
        "#확인\n",
        "if d[0]==d[1]==d[2]:\n",
        "  print(10000+(d[0]*1000))\n",
        "elif d[0]==d[1]:\n",
        "  print(1000+(d[0]*100))\n",
        "elif d[1]==d[2]:\n",
        "  print(1000+(d[1]*100))\n",
        "elif d[0]==d[2]:\n",
        "  print(1000+(d[0]*100))\n",
        "else:\n",
        "  d.sort()\n",
        "  print(d[2]*100)\n",
        "\n",
        "\n",
        "\n",
        "\n"
      ]
    }
  ]
}