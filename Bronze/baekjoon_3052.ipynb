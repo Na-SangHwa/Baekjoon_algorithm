{
  "nbformat": 4,
  "nbformat_minor": 0,
  "metadata": {
    "colab": {
      "name": "baekjoon_3052.ipynb",
      "provenance": [],
      "collapsed_sections": []
    },
    "kernelspec": {
      "name": "python3",
      "display_name": "Python 3"
    },
    "language_info": {
      "name": "python"
    },
    "gpuClass": "standard"
  },
  "cells": [
    {
      "cell_type": "code",
      "source": [
        "n_list=[] # 입력 값 \n",
        "cnt_list=[] # 계산 값\n",
        "cnt=0 # 다른 값 개수 확인\n",
        "\n",
        "for i in range(10):\n",
        "   n=int(input())\n",
        "   n_list.append(n%42)\n",
        "\n",
        "#계산\n",
        "for i in n_list: # 모든 n_list 중에\n",
        "  if i not in cnt_list: # 만약 n_list 항목이 없으면 \n",
        "    cnt_list.append(i) # cnt_list 에 삽입\n",
        "\n",
        "for i in cnt_list: # cnt_list 개수 만큼 증가\n",
        "  cnt+=1\n",
        "\n",
        "#출력\n",
        "print(cnt)"
      ],
      "metadata": {
        "id": "g95SuU_jK2Hc",
        "colab": {
          "base_uri": "https://localhost:8080/"
        },
        "outputId": "97964b6e-2b94-4948-904d-1ad66c7bb5a9"
      },
      "execution_count": 7,
      "outputs": [
        {
          "output_type": "stream",
          "name": "stdout",
          "text": [
            "42\n",
            "84\n",
            "252\n",
            "420\n",
            "840\n",
            "126\n",
            "42\n",
            "84\n",
            "420\n",
            "126\n",
            "1\n"
          ]
        }
      ]
    }
  ]
}