{
  "nbformat": 4,
  "nbformat_minor": 0,
  "metadata": {
    "colab": {
      "name": "baekjoon_14681.ipynb",
      "provenance": [],
      "collapsed_sections": []
    },
    "kernelspec": {
      "name": "python3",
      "display_name": "Python 3"
    },
    "language_info": {
      "name": "python"
    },
    "gpuClass": "standard"
  },
  "cells": [
    {
      "cell_type": "code",
      "execution_count": null,
      "metadata": {
        "colab": {
          "base_uri": "https://localhost:8080/"
        },
        "id": "SBQYHrhEA8K0",
        "outputId": "2446c2c3-f984-4ed8-c721-a42b274960e4"
      },
      "outputs": [
        {
          "output_type": "stream",
          "name": "stdout",
          "text": [
            "9\n",
            "-13\n",
            "4\n"
          ]
        }
      ],
      "source": [
        "q1,q2,q3,q4=[],[],[],[]\n",
        "\n",
        "#입력\n",
        "x,y=int(input()),int(input())\n",
        "\n",
        "#계산\n",
        "if x>0 and y>0:\n",
        "  q1.append([x,y])\n",
        "elif x<0 and y>0:\n",
        "  q2.append([x,y])\n",
        "elif x<0 and y<0:\n",
        "  q3.append([x,y])\n",
        "else:\n",
        "  q4.append([x,y])\n",
        "\n",
        "#출력\n",
        "if [x,y] in q1:\n",
        "  print(1)\n",
        "elif [x,y] in q2:\n",
        "  print(2)\n",
        "elif [x,y] in q3:\n",
        "  print(3)\n",
        "else:\n",
        "  print(4)\n"
      ]
    }
  ]
}