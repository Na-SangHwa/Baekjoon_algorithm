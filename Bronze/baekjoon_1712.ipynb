{
  "nbformat": 4,
  "nbformat_minor": 0,
  "metadata": {
    "colab": {
      "name": "baekjoon_1712.ipynb",
      "provenance": [],
      "collapsed_sections": []
    },
    "kernelspec": {
      "name": "python3",
      "display_name": "Python 3"
    },
    "language_info": {
      "name": "python"
    },
    "gpuClass": "standard"
  },
  "cells": [
    {
      "cell_type": "code",
      "source": [
        "a,b,c=map(int,input().split())\n",
        "ans=a//(c-b)\n",
        "# 고정비용/(원가 - 제품값) 이상(+1)이면 손익분기점 넘음\n",
        "if ans < 1 or b==c:  #분기점 없으면\n",
        "  print(-1)\n",
        "else:\n",
        "  print(a//(c-b)+1) "
      ],
      "metadata": {
        "colab": {
          "base_uri": "https://localhost:8080/"
        },
        "id": "jcCcqTkT7Fte",
        "outputId": "cb1a846e-82dc-408d-9d3b-845c00904b65"
      },
      "execution_count": 11,
      "outputs": [
        {
          "output_type": "stream",
          "name": "stdout",
          "text": [
            "1 2 4\n",
            "-1\n"
          ]
        }
      ]
    }
  ]
}