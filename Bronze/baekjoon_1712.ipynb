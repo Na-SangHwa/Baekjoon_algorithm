{
  "nbformat": 4,
  "nbformat_minor": 0,
  "metadata": {
    "colab": {
      "name": "baekjoon_1712.ipynb",
      "provenance": [],
      "collapsed_sections": []
    },
    "kernelspec": {
      "name": "python3",
      "display_name": "Python 3"
    },
    "language_info": {
      "name": "python"
    },
    "gpuClass": "standard"
  },
  "cells": [
    {
      "cell_type": "code",
      "source": [
        "a,b,c=map(int,input().split())\n",
        "\n",
        "# 고정비용/(원가 - 제품값) 이상(+1)이면 손익분기점 넘음\n",
        "if b>=c:  #분기점 없으면\n",
        "  print(-1)\n",
        "else:\n",
        "  print(a//(c-b)+1) "
      ],
      "metadata": {
        "colab": {
          "base_uri": "https://localhost:8080/"
        },
        "id": "jcCcqTkT7Fte",
        "outputId": "3cbe4808-c467-4253-ab2c-ddb59f3b7c91"
      },
      "execution_count": 20,
      "outputs": [
        {
          "output_type": "stream",
          "name": "stdout",
          "text": [
            "1000 70 170\n",
            "11\n"
          ]
        }
      ]
    }
  ]
}