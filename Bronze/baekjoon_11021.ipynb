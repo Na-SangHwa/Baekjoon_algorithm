{
  "nbformat": 4,
  "nbformat_minor": 0,
  "metadata": {
    "colab": {
      "name": "baekjoon_11021.ipynb",
      "provenance": [],
      "collapsed_sections": []
    },
    "kernelspec": {
      "name": "python3",
      "display_name": "Python 3"
    },
    "language_info": {
      "name": "python"
    },
    "gpuClass": "standard"
  },
  "cells": [
    {
      "cell_type": "code",
      "execution_count": 19,
      "metadata": {
        "colab": {
          "base_uri": "https://localhost:8080/"
        },
        "id": "v7qOHimbPcKv",
        "outputId": "8e230747-0a5e-43b4-b7be-aeb1026af370"
      },
      "outputs": [
        {
          "output_type": "stream",
          "name": "stdout",
          "text": [
            "5\n",
            "1 1\n",
            "2 3\n",
            "3 4\n",
            "9 8\n",
            "5 2\n",
            "Case #1: 2\n",
            "Case #2: 5\n",
            "Case #3: 7\n",
            "Case #4: 17\n",
            "Case #5: 7\n"
          ]
        }
      ],
      "source": [
        "tc=[]\n",
        "x=int(input())\n",
        "\n",
        "for i in range(x):\n",
        "  a,b=map(int,input().split())\n",
        "  tc.append(a+b)\n",
        "\n",
        "for i in range(x):\n",
        "  print(\"Case #{}: {}\".format(i+1,tc[i]))\n"
      ]
    }
  ]
}