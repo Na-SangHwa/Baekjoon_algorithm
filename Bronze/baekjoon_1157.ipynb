{
  "nbformat": 4,
  "nbformat_minor": 0,
  "metadata": {
    "colab": {
      "name": "baekjoon_1157.ipynb",
      "provenance": [],
      "collapsed_sections": []
    },
    "kernelspec": {
      "name": "python3",
      "display_name": "Python 3"
    },
    "language_info": {
      "name": "python"
    },
    "gpuClass": "standard"
  },
  "cells": [
    {
      "cell_type": "code",
      "source": [
        "s=input()\n",
        "s_list=list(s.upper())\n",
        "\n",
        "def make_dic(s_list):\n",
        "  for i in s_list:\n",
        "    temp_dic={s:0 for s in s_list}\n",
        "\n",
        "  for i in s_list: # count values\n",
        "    temp_dic[i]+=1\n",
        "  \n",
        "  return temp_dic\n",
        "temp_dic=make_dic(s_list) # to use find()\n",
        "\n",
        "def find(temp_dic):\n",
        "  check={}\n",
        "\n",
        "  for i in range(2): # only has 2 letters\n",
        "    if not temp_dic: # prevent 0\n",
        "      continue\n",
        "\n",
        "    max_s=max(temp_dic,key=temp_dic.get)\n",
        "    check[max_s]=temp_dic.get(max_s) # add max_s to check{}\n",
        "    del temp_dic[max_s]\n",
        "\n",
        "  if not temp_dic: # if temp_dic has 1 letter\n",
        "    temp_check=list(check.keys())\n",
        "    print(temp_check[0])\n",
        "\n",
        "  elif check.get(0)==check.get(1): # if has same counts\n",
        "    print(\"?\")\n",
        "\n",
        "  else:\n",
        "    temp_check=list(check.keys())\n",
        "    print(temp_check[0])\n",
        "\n",
        "\n",
        "make_dic(s_list)\n",
        "find(temp_dic)"
      ],
      "metadata": {
        "colab": {
          "base_uri": "https://localhost:8080/"
        },
        "id": "7CQhK7wwtkDF",
        "outputId": "9f449659-09c7-42a0-def2-bf349e95a02a"
      },
      "execution_count": 125,
      "outputs": [
        {
          "output_type": "stream",
          "name": "stdout",
          "text": [
            "Mississipi\n",
            "?\n"
          ]
        }
      ]
    }
  ]
}